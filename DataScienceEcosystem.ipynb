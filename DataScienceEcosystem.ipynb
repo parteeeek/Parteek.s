{
 "cells": [
  {
   "cell_type": "markdown",
   "id": "cc706cae-00ef-4332-a468-a1670e217f1a",
   "metadata": {},
   "source": [
    "# Data Science Tools and Ecosystem"
   ]
  },
  {
   "cell_type": "markdown",
   "id": "52f49a70-8d1b-4d27-a36f-45a6db4b8ce1",
   "metadata": {},
   "source": [
    "### In this notebook, Data Science Tools and Ecosystem are summarized."
   ]
  },
  {
   "cell_type": "markdown",
   "id": "615a56e6-8e14-4d17-ac4b-822bd0caed8b",
   "metadata": {},
   "source": [
    "#### Some of the popular languages that Data Scientists use are:\n",
    "1. Python\n",
    "2. R\n",
    "3. SQL\n"
   ]
  },
  {
   "cell_type": "markdown",
   "id": "49740a68-8aff-4e78-aae0-a666d1899aaf",
   "metadata": {},
   "source": [
    "#### Some commonly used libraries used by Data Scientists include:\n",
    "1. Pandas\n",
    "2. numPy\n",
    "3. tensorflow"
   ]
  },
  {
   "cell_type": "markdown",
   "id": "a39c4dd4-8956-4b60-806b-4d8720ee0ec8",
   "metadata": {},
   "source": [
    "|Data Science Tools|\n",
    "--------------------\n",
    "|Hadoop|\n",
    "|Jupyter notebook|\n",
    "|RStudio|"
   ]
  },
  {
   "cell_type": "markdown",
   "id": "fc7a17d0-4706-4b86-888b-26169f1404db",
   "metadata": {},
   "source": [
    "### Below are a few examples of evaluating arithmetic expressions in python:\n"
   ]
  },
  {
   "cell_type": "markdown",
   "id": "ee0317b7-77c3-4be0-86e3-422e4e2bc460",
   "metadata": {},
   "source": [
    "a=5\n",
    "b=7\n",
    "sum = a + b\n",
    "print(sum)"
   ]
  },
  {
   "cell_type": "markdown",
   "id": "7bd6272b-90e6-490f-a6ad-fab4f3372efb",
   "metadata": {},
   "source": [
    "multiple = 5*5\n",
    "print(\"5 * 5 =\", multiple)"
   ]
  },
  {
   "cell_type": "code",
   "execution_count": 4,
   "id": "38e80ccb-0ce4-4354-97c5-46ebbae6f123",
   "metadata": {},
   "outputs": [
    {
     "name": "stdout",
     "output_type": "stream",
     "text": [
      "17\n"
     ]
    }
   ],
   "source": [
    "#this is a simple arithmetic expression to multiply then add integers\n",
    "print((3*4)+5)"
   ]
  },
  {
   "cell_type": "code",
   "execution_count": 5,
   "id": "73d7f405-cae1-4dcc-8f01-22be79d7fce7",
   "metadata": {},
   "outputs": [
    {
     "name": "stdout",
     "output_type": "stream",
     "text": [
      "3.3333333333333335\n"
     ]
    }
   ],
   "source": [
    "#This will convert 200 minutes to hours by diving by 60\n",
    "mins=200\n",
    "hours=mins/60\n",
    "print(hours)"
   ]
  },
  {
   "cell_type": "markdown",
   "id": "c569540c-f2f1-4bfa-b317-dc9f56219b45",
   "metadata": {},
   "source": [
    "## Objectives:\n",
    "- Popular languages in Data Science.\n",
    "- Some commonly used Libraries.\n",
    "- Simple arithmetic expressions in Python."
   ]
  },
  {
   "cell_type": "markdown",
   "id": "bc4a6a8d-40b7-488a-a356-c618b8406175",
   "metadata": {},
   "source": [
    "## Author\n",
    "Parteek Sharma"
   ]
  },
  {
   "cell_type": "code",
   "execution_count": null,
   "id": "8ac59b67-0f23-4339-806d-178816c6d9f1",
   "metadata": {},
   "outputs": [],
   "source": []
  }
 ],
 "metadata": {
  "kernelspec": {
   "display_name": "Python 3 (ipykernel)",
   "language": "python",
   "name": "python3"
  },
  "language_info": {
   "codemirror_mode": {
    "name": "ipython",
    "version": 3
   },
   "file_extension": ".py",
   "mimetype": "text/x-python",
   "name": "python",
   "nbconvert_exporter": "python",
   "pygments_lexer": "ipython3",
   "version": "3.11.7"
  }
 },
 "nbformat": 4,
 "nbformat_minor": 5
}
